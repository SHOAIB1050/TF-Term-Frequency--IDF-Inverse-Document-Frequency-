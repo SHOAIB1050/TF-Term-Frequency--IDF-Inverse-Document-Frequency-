{
 "cells": [
  {
   "cell_type": "code",
   "execution_count": 67,
   "metadata": {},
   "outputs": [],
   "source": [
    "import pandas as pd\n",
    "import sklearn as sk\n",
    "import math"
   ]
  },
  {
   "cell_type": "code",
   "execution_count": 123,
   "metadata": {},
   "outputs": [],
   "source": [
    "first_sentence = \"Data Science is the sexiest job of the 21st century\"\n",
    "second_sentence = \"machine learning is the key for data science\""
   ]
  },
  {
   "cell_type": "markdown",
   "metadata": {},
   "source": [
    "# SPLITING"
   ]
  },
  {
   "cell_type": "code",
   "execution_count": 124,
   "metadata": {},
   "outputs": [
    {
     "name": "stdout",
     "output_type": "stream",
     "text": [
      "{'the', 'is', 'key', 'sexiest', 'Data', 'Science', '21st', 'machine', 'data', 'science', 'job', 'of', 'for', 'learning', 'century'}\n"
     ]
    }
   ],
   "source": [
    "#split so each word have their own string\n",
    "first_sentence = first_sentence.split(\" \")\n",
    "second_sentence = second_sentence.split(\" \")\n",
    "#join them to remove common duplicate words\n",
    "total= set(first_sentence).union(set(second_sentence))\n",
    "print(total)"
   ]
  },
  {
   "cell_type": "markdown",
   "metadata": {},
   "source": [
    "# Now lets add a way to count the words using a dictionary key-value pairing for both sentences "
   ]
  },
  {
   "cell_type": "code",
   "execution_count": 125,
   "metadata": {},
   "outputs": [
    {
     "data": {
      "text/plain": [
       "{'the': 2,\n",
       " 'is': 1,\n",
       " 'key': 0,\n",
       " 'sexiest': 1,\n",
       " 'Data': 1,\n",
       " 'Science': 1,\n",
       " '21st': 1,\n",
       " 'machine': 0,\n",
       " 'data': 0,\n",
       " 'science': 0,\n",
       " 'job': 1,\n",
       " 'of': 1,\n",
       " 'for': 0,\n",
       " 'learning': 0,\n",
       " 'century': 1}"
      ]
     },
     "execution_count": 125,
     "metadata": {},
     "output_type": "execute_result"
    }
   ],
   "source": [
    "Word_DictA = dict.fromkeys(total, 0) \n",
    "Word_DictB = dict.fromkeys(total, 0)\n",
    "for word in first_sentence:\n",
    "    Word_DictA[word]+=1\n",
    "    \n",
    "for word in second_sentence:\n",
    "    Word_DictB[word]+=1\n",
    "Word_DictA"
   ]
  },
  {
   "cell_type": "code",
   "execution_count": 126,
   "metadata": {},
   "outputs": [
    {
     "data": {
      "text/plain": [
       "{'the': 1,\n",
       " 'is': 1,\n",
       " 'key': 1,\n",
       " 'sexiest': 0,\n",
       " 'Data': 0,\n",
       " 'Science': 0,\n",
       " '21st': 0,\n",
       " 'machine': 1,\n",
       " 'data': 1,\n",
       " 'science': 1,\n",
       " 'job': 0,\n",
       " 'of': 0,\n",
       " 'for': 1,\n",
       " 'learning': 1,\n",
       " 'century': 0}"
      ]
     },
     "execution_count": 126,
     "metadata": {},
     "output_type": "execute_result"
    }
   ],
   "source": [
    "Word_DictB"
   ]
  },
  {
   "cell_type": "markdown",
   "metadata": {},
   "source": [
    "# Now we put them in a dataframe and then view the result"
   ]
  },
  {
   "cell_type": "code",
   "execution_count": 127,
   "metadata": {},
   "outputs": [
    {
     "data": {
      "text/html": [
       "<div>\n",
       "<style scoped>\n",
       "    .dataframe tbody tr th:only-of-type {\n",
       "        vertical-align: middle;\n",
       "    }\n",
       "\n",
       "    .dataframe tbody tr th {\n",
       "        vertical-align: top;\n",
       "    }\n",
       "\n",
       "    .dataframe thead th {\n",
       "        text-align: right;\n",
       "    }\n",
       "</style>\n",
       "<table border=\"1\" class=\"dataframe\">\n",
       "  <thead>\n",
       "    <tr style=\"text-align: right;\">\n",
       "      <th></th>\n",
       "      <th>the</th>\n",
       "      <th>is</th>\n",
       "      <th>key</th>\n",
       "      <th>sexiest</th>\n",
       "      <th>Data</th>\n",
       "      <th>Science</th>\n",
       "      <th>21st</th>\n",
       "      <th>machine</th>\n",
       "      <th>data</th>\n",
       "      <th>science</th>\n",
       "      <th>job</th>\n",
       "      <th>of</th>\n",
       "      <th>for</th>\n",
       "      <th>learning</th>\n",
       "      <th>century</th>\n",
       "    </tr>\n",
       "  </thead>\n",
       "  <tbody>\n",
       "    <tr>\n",
       "      <th>0</th>\n",
       "      <td>2</td>\n",
       "      <td>1</td>\n",
       "      <td>0</td>\n",
       "      <td>1</td>\n",
       "      <td>1</td>\n",
       "      <td>1</td>\n",
       "      <td>1</td>\n",
       "      <td>0</td>\n",
       "      <td>0</td>\n",
       "      <td>0</td>\n",
       "      <td>1</td>\n",
       "      <td>1</td>\n",
       "      <td>0</td>\n",
       "      <td>0</td>\n",
       "      <td>1</td>\n",
       "    </tr>\n",
       "    <tr>\n",
       "      <th>1</th>\n",
       "      <td>1</td>\n",
       "      <td>1</td>\n",
       "      <td>1</td>\n",
       "      <td>0</td>\n",
       "      <td>0</td>\n",
       "      <td>0</td>\n",
       "      <td>0</td>\n",
       "      <td>1</td>\n",
       "      <td>1</td>\n",
       "      <td>1</td>\n",
       "      <td>0</td>\n",
       "      <td>0</td>\n",
       "      <td>1</td>\n",
       "      <td>1</td>\n",
       "      <td>0</td>\n",
       "    </tr>\n",
       "  </tbody>\n",
       "</table>\n",
       "</div>"
      ],
      "text/plain": [
       "   the  is  key  sexiest  Data  Science  21st  machine  data  science  job  \\\n",
       "0    2   1    0        1     1        1     1        0     0        0    1   \n",
       "1    1   1    1        0     0        0     0        1     1        1    0   \n",
       "\n",
       "   of  for  learning  century  \n",
       "0   1    0         0        1  \n",
       "1   0    1         1        0  "
      ]
     },
     "execution_count": 127,
     "metadata": {},
     "output_type": "execute_result"
    }
   ],
   "source": [
    "pd.DataFrame([Word_DictA, Word_DictB])"
   ]
  },
  {
   "cell_type": "markdown",
   "metadata": {},
   "source": [
    "# Writing the TF Function "
   ]
  },
  {
   "cell_type": "code",
   "execution_count": 129,
   "metadata": {},
   "outputs": [],
   "source": [
    "def computeTF(WordDict, doc):\n",
    "    tearm_frequency_Dict = {}\n",
    "    Corpus_Count = len(doc)\n",
    "    for word, count in WordDict.items():\n",
    "        tearm_frequency_Dict[word] = count/float(Corpus_Count)\n",
    "    return(tearm_frequency_Dict)"
   ]
  },
  {
   "cell_type": "code",
   "execution_count": 130,
   "metadata": {},
   "outputs": [
    {
     "data": {
      "text/plain": [
       "{'the': 0.2,\n",
       " 'is': 0.1,\n",
       " 'key': 0.0,\n",
       " 'sexiest': 0.1,\n",
       " 'Data': 0.1,\n",
       " 'Science': 0.1,\n",
       " '21st': 0.1,\n",
       " 'machine': 0.0,\n",
       " 'data': 0.0,\n",
       " 'science': 0.0,\n",
       " 'job': 0.1,\n",
       " 'of': 0.1,\n",
       " 'for': 0.0,\n",
       " 'learning': 0.0,\n",
       " 'century': 0.1}"
      ]
     },
     "execution_count": 130,
     "metadata": {},
     "output_type": "execute_result"
    }
   ],
   "source": [
    "#Running our sentences through the tf function:\n",
    "tearm_frequency_First = computeTF(Word_DictA, first_sentence)\n",
    "tearm_frequency_First"
   ]
  },
  {
   "cell_type": "code",
   "execution_count": 131,
   "metadata": {},
   "outputs": [
    {
     "data": {
      "text/plain": [
       "{'the': 0.125,\n",
       " 'is': 0.125,\n",
       " 'key': 0.125,\n",
       " 'sexiest': 0.0,\n",
       " 'Data': 0.0,\n",
       " 'Science': 0.0,\n",
       " '21st': 0.0,\n",
       " 'machine': 0.125,\n",
       " 'data': 0.125,\n",
       " 'science': 0.125,\n",
       " 'job': 0.0,\n",
       " 'of': 0.0,\n",
       " 'for': 0.125,\n",
       " 'learning': 0.125,\n",
       " 'century': 0.0}"
      ]
     },
     "execution_count": 131,
     "metadata": {},
     "output_type": "execute_result"
    }
   ],
   "source": [
    "tearm_frequency_Second = computeTF(Word_DictB, second_sentence)\n",
    "tearm_frequency_Second"
   ]
  },
  {
   "cell_type": "code",
   "execution_count": 132,
   "metadata": {},
   "outputs": [
    {
     "data": {
      "text/html": [
       "<div>\n",
       "<style scoped>\n",
       "    .dataframe tbody tr th:only-of-type {\n",
       "        vertical-align: middle;\n",
       "    }\n",
       "\n",
       "    .dataframe tbody tr th {\n",
       "        vertical-align: top;\n",
       "    }\n",
       "\n",
       "    .dataframe thead th {\n",
       "        text-align: right;\n",
       "    }\n",
       "</style>\n",
       "<table border=\"1\" class=\"dataframe\">\n",
       "  <thead>\n",
       "    <tr style=\"text-align: right;\">\n",
       "      <th></th>\n",
       "      <th>the</th>\n",
       "      <th>is</th>\n",
       "      <th>key</th>\n",
       "      <th>sexiest</th>\n",
       "      <th>Data</th>\n",
       "      <th>Science</th>\n",
       "      <th>21st</th>\n",
       "      <th>machine</th>\n",
       "      <th>data</th>\n",
       "      <th>science</th>\n",
       "      <th>job</th>\n",
       "      <th>of</th>\n",
       "      <th>for</th>\n",
       "      <th>learning</th>\n",
       "      <th>century</th>\n",
       "    </tr>\n",
       "  </thead>\n",
       "  <tbody>\n",
       "    <tr>\n",
       "      <th>0</th>\n",
       "      <td>0.200</td>\n",
       "      <td>0.100</td>\n",
       "      <td>0.000</td>\n",
       "      <td>0.1</td>\n",
       "      <td>0.1</td>\n",
       "      <td>0.1</td>\n",
       "      <td>0.1</td>\n",
       "      <td>0.000</td>\n",
       "      <td>0.000</td>\n",
       "      <td>0.000</td>\n",
       "      <td>0.1</td>\n",
       "      <td>0.1</td>\n",
       "      <td>0.000</td>\n",
       "      <td>0.000</td>\n",
       "      <td>0.1</td>\n",
       "    </tr>\n",
       "    <tr>\n",
       "      <th>1</th>\n",
       "      <td>0.125</td>\n",
       "      <td>0.125</td>\n",
       "      <td>0.125</td>\n",
       "      <td>0.0</td>\n",
       "      <td>0.0</td>\n",
       "      <td>0.0</td>\n",
       "      <td>0.0</td>\n",
       "      <td>0.125</td>\n",
       "      <td>0.125</td>\n",
       "      <td>0.125</td>\n",
       "      <td>0.0</td>\n",
       "      <td>0.0</td>\n",
       "      <td>0.125</td>\n",
       "      <td>0.125</td>\n",
       "      <td>0.0</td>\n",
       "    </tr>\n",
       "  </tbody>\n",
       "</table>\n",
       "</div>"
      ],
      "text/plain": [
       "     the     is    key  sexiest  Data  Science  21st  machine   data  science  \\\n",
       "0  0.200  0.100  0.000      0.1   0.1      0.1   0.1    0.000  0.000    0.000   \n",
       "1  0.125  0.125  0.125      0.0   0.0      0.0   0.0    0.125  0.125    0.125   \n",
       "\n",
       "   job   of    for  learning  century  \n",
       "0  0.1  0.1  0.000     0.000      0.1  \n",
       "1  0.0  0.0  0.125     0.125      0.0  "
      ]
     },
     "execution_count": 132,
     "metadata": {},
     "output_type": "execute_result"
    }
   ],
   "source": [
    "#Converting to dataframe for visualization\n",
    "term_frequency = pd.DataFrame([tearm_frequency_First, tearm_frequency_Second])\n",
    "term_frequency"
   ]
  },
  {
   "cell_type": "markdown",
   "metadata": {},
   "source": [
    "# Now that we finished the TF section, we move onto the IDF part"
   ]
  },
  {
   "cell_type": "code",
   "execution_count": 133,
   "metadata": {},
   "outputs": [],
   "source": [
    "def computeIDF(docList):\n",
    "    invers_documnet_frequency_Dict = {}\n",
    "    #total number of senetnces\n",
    "    N = len(docList)\n",
    "    \n",
    "    invers_documnet_frequency_Dict = dict.fromkeys(docList[0].keys(),0)\n",
    "    for word, val in invers_documnet_frequency_Dict.items():\n",
    "        invers_documnet_frequency_Dict[word] = math.log10(N / (float(val) + 1))\n",
    "    return(invers_documnet_frequency_Dict)\n"
   ]
  },
  {
   "cell_type": "code",
   "execution_count": 134,
   "metadata": {},
   "outputs": [
    {
     "data": {
      "text/plain": [
       "{'the': 0.3010299956639812,\n",
       " 'is': 0.3010299956639812,\n",
       " 'key': 0.3010299956639812,\n",
       " 'sexiest': 0.3010299956639812,\n",
       " 'Data': 0.3010299956639812,\n",
       " 'Science': 0.3010299956639812,\n",
       " '21st': 0.3010299956639812,\n",
       " 'machine': 0.3010299956639812,\n",
       " 'data': 0.3010299956639812,\n",
       " 'science': 0.3010299956639812,\n",
       " 'job': 0.3010299956639812,\n",
       " 'of': 0.3010299956639812,\n",
       " 'for': 0.3010299956639812,\n",
       " 'learning': 0.3010299956639812,\n",
       " 'century': 0.3010299956639812}"
      ]
     },
     "execution_count": 134,
     "metadata": {},
     "output_type": "execute_result"
    }
   ],
   "source": [
    "#inputing our sentences in the log file\n",
    "invers_documnet_frequency = computeIDF([Word_DictA, Word_DictB])\n",
    "invers_documnet_frequency"
   ]
  },
  {
   "cell_type": "markdown",
   "metadata": {},
   "source": [
    "# Now we implement the idf formula , let’s finish with calculating the TFIDF"
   ]
  },
  {
   "cell_type": "code",
   "execution_count": 135,
   "metadata": {},
   "outputs": [],
   "source": [
    "def computeTFIDF(tfBow, idfs):\n",
    "    tfidf = {}\n",
    "    for word, val in tfBow.items():\n",
    "        tfidf[word] = val*idfs[word]\n",
    "    return(tfidf)\n"
   ]
  },
  {
   "cell_type": "code",
   "execution_count": 136,
   "metadata": {},
   "outputs": [
    {
     "data": {
      "text/plain": [
       "{'the': 0.06020599913279624,\n",
       " 'is': 0.03010299956639812,\n",
       " 'key': 0.0,\n",
       " 'sexiest': 0.03010299956639812,\n",
       " 'Data': 0.03010299956639812,\n",
       " 'Science': 0.03010299956639812,\n",
       " '21st': 0.03010299956639812,\n",
       " 'machine': 0.0,\n",
       " 'data': 0.0,\n",
       " 'science': 0.0,\n",
       " 'job': 0.03010299956639812,\n",
       " 'of': 0.03010299956639812,\n",
       " 'for': 0.0,\n",
       " 'learning': 0.0,\n",
       " 'century': 0.03010299956639812}"
      ]
     },
     "execution_count": 136,
     "metadata": {},
     "output_type": "execute_result"
    }
   ],
   "source": [
    "#running our two sentences through the IDF:\n",
    "invers_document_frequency_First = computeTFIDF(tearm_frequency_First, invers_documnet_frequency_Dict)\n",
    "invers_document_frequency_First"
   ]
  },
  {
   "cell_type": "code",
   "execution_count": 137,
   "metadata": {},
   "outputs": [
    {
     "data": {
      "text/plain": [
       "{'the': 0.03762874945799765,\n",
       " 'is': 0.03762874945799765,\n",
       " 'key': 0.03762874945799765,\n",
       " 'sexiest': 0.0,\n",
       " 'Data': 0.0,\n",
       " 'Science': 0.0,\n",
       " '21st': 0.0,\n",
       " 'machine': 0.03762874945799765,\n",
       " 'data': 0.03762874945799765,\n",
       " 'science': 0.03762874945799765,\n",
       " 'job': 0.0,\n",
       " 'of': 0.0,\n",
       " 'for': 0.03762874945799765,\n",
       " 'learning': 0.03762874945799765,\n",
       " 'century': 0.0}"
      ]
     },
     "execution_count": 137,
     "metadata": {},
     "output_type": "execute_result"
    }
   ],
   "source": [
    "invers_document_frequency_Second = computeTFIDF(tearm_frequency_Second, invers_documnet_frequency_Dict)\n",
    "invers_document_frequency_Second"
   ]
  },
  {
   "cell_type": "code",
   "execution_count": 138,
   "metadata": {},
   "outputs": [
    {
     "data": {
      "text/html": [
       "<div>\n",
       "<style scoped>\n",
       "    .dataframe tbody tr th:only-of-type {\n",
       "        vertical-align: middle;\n",
       "    }\n",
       "\n",
       "    .dataframe tbody tr th {\n",
       "        vertical-align: top;\n",
       "    }\n",
       "\n",
       "    .dataframe thead th {\n",
       "        text-align: right;\n",
       "    }\n",
       "</style>\n",
       "<table border=\"1\" class=\"dataframe\">\n",
       "  <thead>\n",
       "    <tr style=\"text-align: right;\">\n",
       "      <th></th>\n",
       "      <th>the</th>\n",
       "      <th>is</th>\n",
       "      <th>key</th>\n",
       "      <th>sexiest</th>\n",
       "      <th>Data</th>\n",
       "      <th>Science</th>\n",
       "      <th>21st</th>\n",
       "      <th>machine</th>\n",
       "      <th>data</th>\n",
       "      <th>science</th>\n",
       "      <th>job</th>\n",
       "      <th>of</th>\n",
       "      <th>for</th>\n",
       "      <th>learning</th>\n",
       "      <th>century</th>\n",
       "    </tr>\n",
       "  </thead>\n",
       "  <tbody>\n",
       "    <tr>\n",
       "      <th>0</th>\n",
       "      <td>0.060206</td>\n",
       "      <td>0.030103</td>\n",
       "      <td>0.000000</td>\n",
       "      <td>0.030103</td>\n",
       "      <td>0.030103</td>\n",
       "      <td>0.030103</td>\n",
       "      <td>0.030103</td>\n",
       "      <td>0.000000</td>\n",
       "      <td>0.000000</td>\n",
       "      <td>0.000000</td>\n",
       "      <td>0.030103</td>\n",
       "      <td>0.030103</td>\n",
       "      <td>0.000000</td>\n",
       "      <td>0.000000</td>\n",
       "      <td>0.030103</td>\n",
       "    </tr>\n",
       "    <tr>\n",
       "      <th>1</th>\n",
       "      <td>0.037629</td>\n",
       "      <td>0.037629</td>\n",
       "      <td>0.037629</td>\n",
       "      <td>0.000000</td>\n",
       "      <td>0.000000</td>\n",
       "      <td>0.000000</td>\n",
       "      <td>0.000000</td>\n",
       "      <td>0.037629</td>\n",
       "      <td>0.037629</td>\n",
       "      <td>0.037629</td>\n",
       "      <td>0.000000</td>\n",
       "      <td>0.000000</td>\n",
       "      <td>0.037629</td>\n",
       "      <td>0.037629</td>\n",
       "      <td>0.000000</td>\n",
       "    </tr>\n",
       "  </tbody>\n",
       "</table>\n",
       "</div>"
      ],
      "text/plain": [
       "        the        is       key   sexiest      Data   Science      21st  \\\n",
       "0  0.060206  0.030103  0.000000  0.030103  0.030103  0.030103  0.030103   \n",
       "1  0.037629  0.037629  0.037629  0.000000  0.000000  0.000000  0.000000   \n",
       "\n",
       "    machine      data   science       job        of       for  learning  \\\n",
       "0  0.000000  0.000000  0.000000  0.030103  0.030103  0.000000  0.000000   \n",
       "1  0.037629  0.037629  0.037629  0.000000  0.000000  0.037629  0.037629   \n",
       "\n",
       "    century  \n",
       "0  0.030103  \n",
       "1  0.000000  "
      ]
     },
     "execution_count": 138,
     "metadata": {},
     "output_type": "execute_result"
    }
   ],
   "source": [
    "#putting it in a dataframe\n",
    "idf= pd.DataFrame([invers_document_frequency_First, invers_document_frequency_Second])\n",
    "idf"
   ]
  },
  {
   "cell_type": "markdown",
   "metadata": {},
   "source": [
    "# NOW PERFORM SAME PROCESS USING sklearn"
   ]
  },
  {
   "cell_type": "code",
   "execution_count": 139,
   "metadata": {},
   "outputs": [
    {
     "name": "stdout",
     "output_type": "stream",
     "text": [
      "  (0, 10)\t0.3154409059887549\n",
      "  (0, 3)\t0.3154409059887549\n",
      "  (0, 0)\t0.3154409059887549\n",
      "  (0, 8)\t0.4488776052410952\n",
      "  (0, 9)\t0.2244388026205476\n",
      "  (0, 4)\t0.3154409059887549\n",
      "  (0, 12)\t0.3154409059887549\n",
      "  (0, 1)\t0.3154409059887549\n",
      "  (0, 7)\t0.2244388026205476\n",
      "  (0, 13)\t0.2244388026205476\n",
      "  (0, 2)\t0.2244388026205476\n",
      "  (1, 5)\t0.4251963615908802\n",
      "  (1, 6)\t0.4251963615908802\n",
      "  (1, 11)\t0.4251963615908802\n",
      "  (1, 8)\t0.3025307132406998\n",
      "  (1, 9)\t0.3025307132406998\n",
      "  (1, 7)\t0.3025307132406998\n",
      "  (1, 13)\t0.3025307132406998\n",
      "  (1, 2)\t0.3025307132406998\n"
     ]
    }
   ],
   "source": [
    "from sklearn.feature_extraction.text import TfidfVectorizer\n",
    "#for the sentence, make sure all words are lowercase or you will run #into error. \n",
    "#for simplicity, I just made the same sentence all #lowercase\n",
    "\n",
    "firstV = \"Data Science is combination of fentestic machine learning and deep learning methods\"\n",
    "secondV = \"machine learning is most importent for data science\"\n",
    "\n",
    "#calling the TfidfVectorizer\n",
    "vectorize= TfidfVectorizer()\n",
    "\n",
    "#fitting the model and passing our sentences right away:\n",
    "response= vectorize.fit_transform([firstV, secondV])\n",
    "print(response)"
   ]
  }
 ],
 "metadata": {
  "kernelspec": {
   "display_name": "Python 3",
   "language": "python",
   "name": "python3"
  },
  "language_info": {
   "codemirror_mode": {
    "name": "ipython",
    "version": 3
   },
   "file_extension": ".py",
   "mimetype": "text/x-python",
   "name": "python",
   "nbconvert_exporter": "python",
   "pygments_lexer": "ipython3",
   "version": "3.8.5"
  }
 },
 "nbformat": 4,
 "nbformat_minor": 4
}
